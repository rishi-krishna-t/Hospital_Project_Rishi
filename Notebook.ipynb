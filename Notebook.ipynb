{
 "cells": [
  {
   "cell_type": "code",
   "execution_count": null,
   "id": "e3f9fceb",
   "metadata": {
    "vscode": {
     "languageId": "plaintext"
    }
   },
   "outputs": [],
   "source": [
    "import threading\n",
    "import requests\n",
    "import os\n",
    "import csv\n",
    "import json\n",
    "import re\n",
    "from datetime import datetime\n",
    "from concurrent.futures import ThreadPoolExecutor\n",
    "\n",
    "# Constants that I am using for this program\n",
    "API_URL = \"https://data.cms.gov/provider-data/api/1/metastore/schemas/dataset/items\"\n",
    "DATA_DIR = \"cms_data\"\n",
    "METADATA_FILE = \"last_run_metadata.json\"\n",
    "NUM_WORKERS = 5"
   ]
  },
  {
   "cell_type": "code",
   "execution_count": null,
   "id": "b838e5b6",
   "metadata": {
    "vscode": {
     "languageId": "plaintext"
    }
   },
   "outputs": [],
   "source": [
    "# Creating data directory\n",
    "os.makedirs(DATA_DIR, exist_ok=True)\n",
    "\n",
    "# Load last run metadata to read\n",
    "if os.path.exists(METADATA_FILE):\n",
    "    with open(METADATA_FILE, \"r\") as f:\n",
    "        last_run_metadata = json.load(f)\n",
    "else:\n",
    "    last_run_metadata = {}"
   ]
  },
  {
   "cell_type": "code",
   "execution_count": null,
   "id": "cae03944",
   "metadata": {
    "vscode": {
     "languageId": "plaintext"
    }
   },
   "outputs": [],
   "source": [
    "# Convert column names to snake_case\n",
    "def to_snake_case(name):\n",
    "    return re.sub(r'[^a-zA-Z0-9]+', '_', name).strip('_').lower()\n"
   ]
  },
  {
   "cell_type": "code",
   "execution_count": null,
   "id": "4e96faba",
   "metadata": {
    "vscode": {
     "languageId": "plaintext"
    }
   },
   "outputs": [],
   "source": [
    "# Download and process individual CSV\n",
    "def process_csv(item):\n",
    "    title = item.get(\"title\", \"\")\n",
    "    modified = item.get(\"modified\", \"\")\n",
    "    distributions = item.get(\"distribution\", [])\n",
    "    if not distributions:\n",
    "        return\n",
    "    download_url = distributions[0].get(\"downloadURL\", \"\")\n",
    "\n",
    "    # check if the title contains \"Hospital\" \n",
    "    if \"Hospital\" not in title or not download_url.endswith(\".csv\"):\n",
    "        return\n",
    "\n",
    "    # Check if the file has been modified since last run     \n",
    "    if title in last_run_metadata and last_run_metadata[title] == modified:\n",
    "        return\n",
    "\n",
    "    try:\n",
    "        # Get the current thread name for chekcing parallel run\n",
    "        thread_name = threading.current_thread().name\n",
    "        print(f\"[{thread_name}] Downloading and processing: {title}\")\n",
    "\n",
    "        # Download the CSV file\n",
    "        response = requests.get(download_url)\n",
    "        response.raise_for_status()\n",
    "        content = response.text\n",
    "\n",
    "        # Convert the CSV content to snake_case and save it\n",
    "        filename = os.path.join(DATA_DIR, to_snake_case(title) + \".csv\")\n",
    "        lines = content.splitlines()\n",
    "        reader = csv.DictReader(lines)\n",
    "        new_fieldnames = [to_snake_case(field) for field in reader.fieldnames]\n",
    "\n",
    "        # Write the modified CSV file\n",
    "        with open(filename, \"w\", newline='', encoding=\"utf-8\") as f:\n",
    "            writer = csv.DictWriter(f, fieldnames=new_fieldnames)\n",
    "            writer.writeheader()\n",
    "            for row in reader:\n",
    "                writer.writerow({to_snake_case(k): v for k, v in row.items()})\n",
    "\n",
    "        # Update last run metadata\n",
    "        last_run_metadata[title] = modified\n",
    "        print(f\" Processed: {title}\")\n",
    "\n",
    "    except Exception as e:\n",
    "        print(f\" Error processing {title}: {e}\")\n"
   ]
  },
  {
   "cell_type": "code",
   "execution_count": null,
   "id": "2786cb43",
   "metadata": {
    "vscode": {
     "languageId": "plaintext"
    }
   },
   "outputs": [
    {
     "name": "stdout",
     "output_type": "stream",
     "text": [
      "Fetching CMS dataset metadata...\n",
      "[ThreadPoolExecutor-2_1] Downloading and processing: Complications and Deaths - Hospital[ThreadPoolExecutor-2_3] Downloading and processing: Patient survey (HCAHPS) - Hospital\n",
      "[ThreadPoolExecutor-2_2] Downloading and processing: Healthcare Associated Infections - Hospital\n",
      "\n",
      "[ThreadPoolExecutor-2_0] Downloading and processing: Outpatient and Ambulatory Surgery Consumer Assessment of Healthcare Providers and Systems (OAS CAHPS) survey for hospital outpatient departments - Facility\n",
      "[ThreadPoolExecutor-2_4] Downloading and processing: Outpatient and Ambulatory Surgery Consumer Assessment of Healthcare Providers and Systems (OAS CAHPS) survey for hospital outpatient departments - National\n",
      "[ThreadPoolExecutor-2_4] Processed: Outpatient and Ambulatory Surgery Consumer Assessment of Healthcare Providers and Systems (OAS CAHPS) survey for hospital outpatient departments - National\n",
      "[ThreadPoolExecutor-2_4] Downloading and processing: Outpatient and Ambulatory Surgery Consumer Assessment of Healthcare Providers and Systems (OAS CAHPS) survey for hospital outpatient departments - State\n",
      "[ThreadPoolExecutor-2_0] Processed: Outpatient and Ambulatory Surgery Consumer Assessment of Healthcare Providers and Systems (OAS CAHPS) survey for hospital outpatient departments - Facility\n",
      "[ThreadPoolExecutor-2_0] Downloading and processing: Hospital General Information\n",
      "[ThreadPoolExecutor-2_4] Processed: Outpatient and Ambulatory Surgery Consumer Assessment of Healthcare Providers and Systems (OAS CAHPS) survey for hospital outpatient departments - State\n",
      "[ThreadPoolExecutor-2_4] Downloading and processing: Complications and Unplanned Hospital Visits - PPS-Exempt Cancer Hospital - Hospital\n",
      "[ThreadPoolExecutor-2_4] Processed: Complications and Unplanned Hospital Visits - PPS-Exempt Cancer Hospital - Hospital\n",
      "[ThreadPoolExecutor-2_4] Downloading and processing: Complications and Unplanned Hospital Visits - PPS-Exempt Cancer Hospital - National\n",
      "[ThreadPoolExecutor-2_4] Processed: Complications and Unplanned Hospital Visits - PPS-Exempt Cancer Hospital - National\n",
      "[ThreadPoolExecutor-2_4] Downloading and processing: Hospital-Acquired Condition (HAC) Reduction Program\n",
      "[ThreadPoolExecutor-2_0] Processed: Hospital General Information\n",
      "[ThreadPoolExecutor-2_0] Downloading and processing: Medicare Spending Per Beneficiary - Hospital Additional Decimal Places\n",
      "[ThreadPoolExecutor-2_4] Processed: Hospital-Acquired Condition (HAC) Reduction Program\n",
      "[ThreadPoolExecutor-2_4] Downloading and processing: Safety and Healthcare-Associated Infection Measures - PPS-Exempt Cancer Hospital\n",
      "[ThreadPoolExecutor-2_0] Processed: Medicare Spending Per Beneficiary - Hospital Additional Decimal Places\n",
      "[ThreadPoolExecutor-2_0] Downloading and processing: Patient Survey (PCH - HCAHPS) PPS-Exempt Cancer Hospital - Hospital\n",
      "[ThreadPoolExecutor-2_4] Processed: Safety and Healthcare-Associated Infection Measures - PPS-Exempt Cancer Hospital\n",
      "[ThreadPoolExecutor-2_4] Downloading and processing: Patient Survey (PCH - HCAHPS) PPS-Exempt Cancer Hospital - National\n",
      "[ThreadPoolExecutor-2_0] Processed: Patient Survey (PCH - HCAHPS) PPS-Exempt Cancer Hospital - Hospital\n",
      "[ThreadPoolExecutor-2_0] Downloading and processing: Patient Survey (PCH - HCAHPS) PPS-Exempt Cancer Hospital - State\n",
      "[ThreadPoolExecutor-2_4] Processed: Patient Survey (PCH - HCAHPS) PPS-Exempt Cancer Hospital - National\n",
      "[ThreadPoolExecutor-2_4] Downloading and processing: Hospital Readmissions Reduction Program\n",
      "[ThreadPoolExecutor-2_0] Processed: Patient Survey (PCH - HCAHPS) PPS-Exempt Cancer Hospital - State\n",
      "[ThreadPoolExecutor-2_0] Downloading and processing: Hospital Value-Based Purchasing (HVBP) - Clinical Outcomes Domain Scores\n",
      "[ThreadPoolExecutor-2_4] Processed: Hospital Readmissions Reduction Program\n",
      "[ThreadPoolExecutor-2_4] Downloading and processing: Hospital Value-Based Purchasing (HVBP) - Efficiency Scores\n",
      "[ThreadPoolExecutor-2_0] Processed: Hospital Value-Based Purchasing (HVBP) - Clinical Outcomes Domain Scores\n",
      "[ThreadPoolExecutor-2_0] Downloading and processing: Hospital Value-Based Purchasing (HVBP) - Person and Community Engagement Domain Scores (HCAHPS)\n",
      "[ThreadPoolExecutor-2_4] Processed: Hospital Value-Based Purchasing (HVBP) - Efficiency Scores\n",
      "[ThreadPoolExecutor-2_4] Downloading and processing: Hospital Value-Based Purchasing (HVBP) - Safety\n",
      "[ThreadPoolExecutor-2_0] Processed: Hospital Value-Based Purchasing (HVBP) - Person and Community Engagement Domain Scores (HCAHPS)\n",
      "[ThreadPoolExecutor-2_0] Downloading and processing: Hospital Value-Based Purchasing (HVBP) - Total Performance Score\n",
      "[ThreadPoolExecutor-2_4] Processed: Hospital Value-Based Purchasing (HVBP) - Safety\n",
      "[ThreadPoolExecutor-2_4] Downloading and processing: Medicare Hospital Spending by Claim\n",
      "[ThreadPoolExecutor-2_0] Processed: Hospital Value-Based Purchasing (HVBP) - Total Performance Score\n",
      "[ThreadPoolExecutor-2_0] Downloading and processing: Medicare Spending Per Beneficiary - Hospital\n",
      "[ThreadPoolExecutor-2_1] Processed: Complications and Deaths - Hospital\n",
      "[ThreadPoolExecutor-2_1] Downloading and processing: Outpatient Imaging Efficiency - Hospital\n",
      "[ThreadPoolExecutor-2_0] Processed: Medicare Spending Per Beneficiary - Hospital\n",
      "[ThreadPoolExecutor-2_0] Downloading and processing: Payment and value of care - Hospital\n",
      "[ThreadPoolExecutor-2_1] Processed: Outpatient Imaging Efficiency - Hospital\n",
      "[ThreadPoolExecutor-2_1] Downloading and processing: Timely and Effective Care - Hospital\n",
      "[ThreadPoolExecutor-2_0] Processed: Payment and value of care - Hospital\n",
      "[ThreadPoolExecutor-2_0] Downloading and processing: Unplanned Hospital Visits - Hospital\n",
      "[ThreadPoolExecutor-2_4] Processed: Medicare Hospital Spending by Claim\n",
      "[ThreadPoolExecutor-2_4] Downloading and processing: Unplanned Hospital Visits - National\n",
      "[ThreadPoolExecutor-2_4] Processed: Unplanned Hospital Visits - National\n",
      "[ThreadPoolExecutor-2_4] Downloading and processing: Unplanned Hospital Visits - State\n",
      "[ThreadPoolExecutor-2_4] Processed: Unplanned Hospital Visits - State\n",
      "[ThreadPoolExecutor-2_4] Downloading and processing: Long-Term Care Hospital - General Information\n",
      "[ThreadPoolExecutor-2_4] Processed: Long-Term Care Hospital - General Information\n",
      "[ThreadPoolExecutor-2_4] Downloading and processing: Long-Term Care Hospital - Provider Data\n",
      "[ThreadPoolExecutor-2_2] Processed: Healthcare Associated Infections - Hospital\n",
      "[ThreadPoolExecutor-2_2] Downloading and processing: Hospitalist Office Visit Costs\n",
      "[ThreadPoolExecutor-2_4] Processed: Long-Term Care Hospital - Provider Data\n",
      "[ThreadPoolExecutor-2_4] Downloading and processing: Maternal Health - Hospital\n",
      "[ThreadPoolExecutor-2_2] Processed: Hospitalist Office Visit Costs\n",
      "[ThreadPoolExecutor-2_2] Downloading and processing: Long-Term Care Hospital - National Data\n",
      "[ThreadPoolExecutor-2_2] Processed: Long-Term Care Hospital - National Data\n",
      "[ThreadPoolExecutor-2_2] Downloading and processing: ESRD QIP - Standardized Hospitalization Ratio - Payment Year 2025\n",
      "[ThreadPoolExecutor-2_4] Processed: Maternal Health - Hospital\n",
      "[ThreadPoolExecutor-2_4] Downloading and processing: Patient-Reported Outcomes - Hospital\n",
      "[ThreadPoolExecutor-2_2] Processed: ESRD QIP - Standardized Hospitalization Ratio - Payment Year 2025\n",
      "[ThreadPoolExecutor-2_2] Downloading and processing: Palliative Care - PPS-Exempt Cancer Hospital - Hospital\n",
      "[ThreadPoolExecutor-2_4] Processed: Patient-Reported Outcomes - Hospital\n",
      "[ThreadPoolExecutor-2_4] Downloading and processing: Palliative Care - PPS-Exempt Cancer Hospital - National\n",
      "[ThreadPoolExecutor-2_2] Processed: Palliative Care - PPS-Exempt Cancer Hospital - Hospital\n",
      "[ThreadPoolExecutor-2_2] Downloading and processing: Health Equity - Hospital\n",
      "[ThreadPoolExecutor-2_4] Processed: Palliative Care - PPS-Exempt Cancer Hospital - National\n",
      "[ThreadPoolExecutor-2_4] Downloading and processing: Promoting Interoperability - Hospital\n",
      "[ThreadPoolExecutor-2_4] Processed: Promoting Interoperability - Hospital\n",
      "[ThreadPoolExecutor-2_0] Processed: Unplanned Hospital Visits - Hospital\n",
      "[ThreadPoolExecutor-2_1] Processed: Timely and Effective Care - Hospital\n",
      "[ThreadPoolExecutor-2_2] Processed: Health Equity - Hospital\n",
      "[ThreadPoolExecutor-2_3] Processed: Patient survey (HCAHPS) - Hospital\n",
      "All done.\n"
     ]
    }
   ],
   "source": [
    "print(\" Fetching CMS dataset metadata...\")\n",
    "response = requests.get(API_URL)\n",
    "response.raise_for_status()\n",
    "items = response.json()\n",
    "\n",
    "with ThreadPoolExecutor(max_workers=NUM_WORKERS) as executor:\n",
    "    executor.map(process_csv, items)\n",
    "\n",
    "with open(METADATA_FILE, \"w\") as f:\n",
    "    json.dump(last_run_metadata, f, indent=2)\n",
    "print(\" All done.\")"
   ]
  },
  {
   "cell_type": "code",
   "execution_count": null,
   "id": "188d0c2e-84df-4af6-b1a5-5c382e71350c",
   "metadata": {},
   "outputs": [],
   "source": []
  }
 ],
 "metadata": {
  "kernelspec": {
   "display_name": "Python 3 (ipykernel)",
   "language": "python",
   "name": "python3"
  },
  "language_info": {
   "codemirror_mode": {
    "name": "ipython",
    "version": 3
   },
   "file_extension": ".py",
   "mimetype": "text/x-python",
   "name": "python",
   "nbconvert_exporter": "python",
   "pygments_lexer": "ipython3",
   "version": "3.11.5"
  }
 },
 "nbformat": 4,
 "nbformat_minor": 5
}
